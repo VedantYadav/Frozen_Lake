{
 "cells": [
  {
   "cell_type": "code",
   "execution_count": 1,
   "metadata": {
    "collapsed": true
   },
   "outputs": [],
   "source": [
    "import gym\n",
    "import numpy as np"
   ]
  },
  {
   "cell_type": "markdown",
   "metadata": {},
   "source": [
    "## Load the environment"
   ]
  },
  {
   "cell_type": "code",
   "execution_count": 2,
   "metadata": {},
   "outputs": [
    {
     "name": "stderr",
     "output_type": "stream",
     "text": [
      "[2017-05-28 16:29:47,741] Making new env: FrozenLake-v0\n"
     ]
    }
   ],
   "source": [
    "env = gym.make('FrozenLake-v0')"
   ]
  },
  {
   "cell_type": "markdown",
   "metadata": {},
   "source": [
    "## Q-learning"
   ]
  },
  {
   "cell_type": "code",
   "execution_count": 24,
   "metadata": {},
   "outputs": [],
   "source": [
    "Q = np.zeros((env.observation_space.n,env.action_space.n))\n",
    "alpha = .8\n",
    "discount_factor = .95\n",
    "num_episode = 10000\n",
    "reward_list = []\n",
    "\n",
    "for i in xrange(num_episode):\n",
    "    total_step = 100\n",
    "    s = env.reset()\n",
    "    step_reward = 0\n",
    "    for j in xrange(total_step):\n",
    "        action_with_noise = np.argmax(Q[s,:] + np.random.randn(1,env.action_space.n) * 1/(i+1))\n",
    "        s1,r1,d,_ = env.step(action_with_noise)\n",
    "        step_reward += r1\n",
    "        Q[s,action_with_noise] = Q[s,action_with_noise] + alpha*(r1 + discount_factor*np.max(Q[s1,:]) - Q[s,action_with_noise])\n",
    "        s=s1\n",
    "        if d:\n",
    "            break\n",
    "    reward_list.append(step_reward)"
   ]
  },
  {
   "cell_type": "code",
   "execution_count": 25,
   "metadata": {},
   "outputs": [
    {
     "name": "stdout",
     "output_type": "stream",
     "text": [
      "Score over time: 0.5859\n",
      "[[  2.8e-01   3.4e-03   2.9e-03   2.8e-03]\n",
      " [  1.1e-03   6.4e-04   8.2e-04   3.0e-01]\n",
      " [  4.9e-04   4.2e-04   3.4e-04   1.9e-01]\n",
      " [  1.6e-04   2.4e-04   1.7e-04   1.3e-01]\n",
      " [  2.6e-01   1.9e-04   1.6e-03   2.4e-03]\n",
      " [  0.0e+00   0.0e+00   0.0e+00   0.0e+00]\n",
      " [  2.1e-01   2.1e-05   7.3e-05   5.4e-09]\n",
      " [  0.0e+00   0.0e+00   0.0e+00   0.0e+00]\n",
      " [  0.0e+00   0.0e+00   1.2e-03   2.5e-01]\n",
      " [  0.0e+00   2.1e-01   0.0e+00   0.0e+00]\n",
      " [  3.2e-01   2.9e-04   6.1e-05   9.8e-06]\n",
      " [  0.0e+00   0.0e+00   0.0e+00   0.0e+00]\n",
      " [  0.0e+00   0.0e+00   0.0e+00   0.0e+00]\n",
      " [  3.2e-03   1.7e-04   6.0e-01   7.5e-04]\n",
      " [  0.0e+00   0.0e+00   8.7e-01   0.0e+00]\n",
      " [  0.0e+00   0.0e+00   0.0e+00   0.0e+00]]\n"
     ]
    }
   ],
   "source": [
    "print \"Score over time: \" +  str(sum(reward_list)/num_episode)\n",
    "np.set_printoptions(precision=1)\n",
    "print Q\n",
    "# print np.array_str(Q, precision=2)"
   ]
  },
  {
   "cell_type": "code",
   "execution_count": 26,
   "metadata": {},
   "outputs": [
    {
     "name": "stdout",
     "output_type": "stream",
     "text": [
      "[0 3 3 3 0 0 0 0 3 1 0 0 0 2 2 0]\n"
     ]
    }
   ],
   "source": [
    "print Q.argmax(1)"
   ]
  },
  {
   "cell_type": "code",
   "execution_count": 27,
   "metadata": {
    "collapsed": true
   },
   "outputs": [],
   "source": [
    "\n",
    "#Initialize table with all zeros\n",
    "Q = np.zeros([env.observation_space.n,env.action_space.n])\n",
    "# Set learning parameters\n",
    "lr = .8\n",
    "y = .95\n",
    "num_episodes = 3000\n",
    "#create lists to contain total rewards and steps per episode\n",
    "#jList = []\n",
    "rList = []\n",
    "for i in range(num_episodes):\n",
    "    #Reset environment and get first new observation\n",
    "    s = env.reset()\n",
    "    rAll = 0\n",
    "    d = False\n",
    "    j = 0\n",
    "    #The Q-Table learning algorithm\n",
    "    while j < 99:\n",
    "        j+=1\n",
    "        #Choose an action by greedily (with noise) picking from Q table\n",
    "        a = np.argmax(Q[s,:] + np.random.randn(1,env.action_space.n)*(1./(i+1)))\n",
    "        #Get new state and reward from environment\n",
    "        s1,r,d,_ = env.step(a)\n",
    "        #Update Q-Table with new knowledge\n",
    "        Q[s,a] = Q[s,a] + lr*(r + y*np.max(Q[s1,:]) - Q[s,a])\n",
    "        rAll += r\n",
    "        s = s1\n",
    "        if d == True:\n",
    "            break\n",
    "    #jList.append(j)\n",
    "    rList.append(rAll)"
   ]
  },
  {
   "cell_type": "code",
   "execution_count": 28,
   "metadata": {},
   "outputs": [
    {
     "name": "stdout",
     "output_type": "stream",
     "text": [
      "Final Q-Table Values\n",
      "[[  1.2e-03   7.1e-02   1.6e-03   1.8e-03]\n",
      " [  4.0e-04   1.7e-05   5.1e-04   5.2e-02]\n",
      " [  0.0e+00   6.0e-04   1.8e-03   3.2e-02]\n",
      " [  2.3e-04   2.5e-04   7.6e-05   1.8e-02]\n",
      " [  4.1e-01   8.1e-04   4.8e-05   9.3e-04]\n",
      " [  0.0e+00   0.0e+00   0.0e+00   0.0e+00]\n",
      " [  3.5e-02   1.0e-04   8.6e-07   3.9e-08]\n",
      " [  0.0e+00   0.0e+00   0.0e+00   0.0e+00]\n",
      " [  1.0e-03   9.0e-04   2.3e-04   4.3e-01]\n",
      " [  1.8e-04   5.1e-01   8.7e-05   7.2e-04]\n",
      " [  4.0e-01   3.4e-04   3.5e-04   1.7e-04]\n",
      " [  0.0e+00   0.0e+00   0.0e+00   0.0e+00]\n",
      " [  0.0e+00   0.0e+00   0.0e+00   0.0e+00]\n",
      " [  2.0e-03   0.0e+00   6.8e-01   2.2e-03]\n",
      " [  0.0e+00   0.0e+00   3.1e-01   0.0e+00]\n",
      " [  0.0e+00   0.0e+00   0.0e+00   0.0e+00]]\n"
     ]
    }
   ],
   "source": [
    "print \"Final Q-Table Values\"\n",
    "print Q"
   ]
  },
  {
   "cell_type": "code",
   "execution_count": 29,
   "metadata": {},
   "outputs": [
    {
     "name": "stdout",
     "output_type": "stream",
     "text": [
      "[1 3 3 3 0 0 0 0 3 1 0 0 0 2 2 0]\n"
     ]
    }
   ],
   "source": [
    "print Q.argmax(1)"
   ]
  },
  {
   "cell_type": "code",
   "execution_count": 5,
   "metadata": {},
   "outputs": [],
   "source": [
    "while 1:\n",
    "    d = False\n",
    "    env.reset()\n",
    "    for i in xrange(500):\n",
    "        env.render()\n",
    "    #     print 'state : ' + s\n",
    "        a = raw_input('enter the action ')\n",
    "        if a == '5':\n",
    "            env.reset()\n",
    "        if d:\n",
    "            break\n",
    "        s,r,d,_ = env.step(int(a))\n",
    "        print 'state : ' + str(s) \n",
    "        print '(action,reward) : ' + a + ' ,' + str(r)"
   ]
  },
  {
   "cell_type": "code",
   "execution_count": null,
   "metadata": {},
   "outputs": [],
   "source": []
  },
  {
   "cell_type": "code",
   "execution_count": null,
   "metadata": {
    "collapsed": true
   },
   "outputs": [],
   "source": []
  }
 ],
 "metadata": {
  "kernelspec": {
   "display_name": "Python 2",
   "language": "python",
   "name": "python2"
  },
  "language_info": {
   "codemirror_mode": {
    "name": "ipython",
    "version": 2
   },
   "file_extension": ".py",
   "mimetype": "text/x-python",
   "name": "python",
   "nbconvert_exporter": "python",
   "pygments_lexer": "ipython2",
   "version": "2.7.6"
  }
 },
 "nbformat": 4,
 "nbformat_minor": 2
}
